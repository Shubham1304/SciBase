{
 "cells": [
  {
   "cell_type": "code",
   "execution_count": 10,
   "metadata": {},
   "outputs": [
    {
     "name": "stdout",
     "output_type": "stream",
     "text": [
      "hey\n"
     ]
    }
   ],
   "source": [
    "import os , sys\n",
    "from selenium  import webdriver\n",
    "from selenium.webdriver.common.keys import Keys\n",
    "import re\n",
    "from bs4 import BeautifulSoup\n",
    "from selenium.webdriver.common.by import By\n",
    "from selenium.webdriver.support.ui import WebDriverWait\n",
    "from selenium.webdriver.support import expected_conditions as EC\n",
    "import json\n",
    "import errno\n",
    "'''url=\"https://scholar.google.co.in/scholar?start=0&hl=en&as_sdt=0,5&sciodt=0,5&cites=8608559880368280977,257377035427477106,13538606778381662047,7584568690943495592,13074838339646797994&scipsc=\"\n",
    "browser = webdriver.Firefox()\n",
    "browser.get(url)\n",
    "source = browser.page_source\n",
    "button = browser.find_element_by_xpath('/html/body/div/div[11]/div[2]/div[2]/div[2]/div[10]/div[2]/div[1]/a[1]')\n",
    "button.click()'''\n",
    "i=1\n",
    "if i!=0:\n",
    "    print(\"hey\")\n"
   ]
  },
  {
   "cell_type": "code",
   "execution_count": 9,
   "metadata": {},
   "outputs": [
    {
     "name": "stdout",
     "output_type": "stream",
     "text": [
      "success\n"
     ]
    },
    {
     "data": {
      "text/plain": [
       "'source = browser.page_source\\nsoup2=BeautifulSoup(source,\\'html.parser\\')\\ninst_data=soup2.find(\"div\",{\"class\":\"gsc_prf_il\"})\\ninst_text=inst_data.text\\nprint(inst_text)\\n'"
      ]
     },
     "execution_count": 9,
     "metadata": {},
     "output_type": "execute_result"
    }
   ],
   "source": [
    "import os , sys\n",
    "from selenium  import webdriver\n",
    "from selenium.webdriver.common.keys import Keys\n",
    "import re\n",
    "from bs4 import BeautifulSoup\n",
    "from selenium.webdriver.common.by import By\n",
    "from selenium.webdriver.support.ui import WebDriverWait\n",
    "from selenium.webdriver.support import expected_conditions as EC\n",
    "import json\n",
    "import errno\n",
    "url=\"https://scholar.google.co.in/scholar?oi=bibs&hl=en&cites=8608559880368280977,257377035427477106,13538606778381662047,7584568690943495592,13074838339646797994\"\n",
    "browser = webdriver.Firefox()\n",
    "browser.get(url)\n",
    "i=j=1\n",
    "s4='/html/body/div/div[11]/div[2]/div[2]/div[2]/div['\n",
    "s5=str(j)\n",
    "s6=']/div[2]/div[1]/a['\n",
    "s7=str(i)\n",
    "s8=']'\n",
    "button4=browser.find_element_by_xpath(s4+s5+s6+s7+s8)\n",
    "button4.click()\n",
    "print('success')\n",
    "'''source = browser.page_source\n",
    "soup2=BeautifulSoup(source,'html.parser')\n",
    "inst_data=soup2.find(\"div\",{\"class\":\"gsc_prf_il\"})\n",
    "inst_text=inst_data.text\n",
    "print(inst_text)\n",
    "'''"
   ]
  },
  {
   "cell_type": "code",
   "execution_count": null,
   "metadata": {},
   "outputs": [],
   "source": [
    "import os , sys\n",
    "from selenium  import webdriver\n",
    "from selenium.webdriver.common.keys import Keys\n",
    "import re\n",
    "from bs4 import BeautifulSoup\n",
    "from selenium.webdriver.common.by import By\n",
    "from selenium.webdriver.support.ui import WebDriverWait\n",
    "from selenium.webdriver.support import expected_conditions as EC\n",
    "import json\n",
    "import errno\n",
    "print(\"Enter the name of the author you want to search:\")\n",
    "search=input()\n",
    "url=\"https://scholar.google.co.in/citations?view_op=search_authors&mauthors=\" + search\n",
    "\n",
    "browser = webdriver.Firefox()\n",
    "browser.get(url)\n",
    "elem = WebDriverWait(browser,10).until(EC.presence_of_element_located((By.XPATH, '//*[@id=\"gsc_sa_ccl\"]/div/div/h3/a/span')))\n",
    "source = browser.page_source\n",
    "button = browser.find_element_by_css_selector('#gsc_sa_ccl > div > div > h3 > a > span')\n",
    "button.click()\n",
    "element = WebDriverWait(browser,30).until(EC.visibility_of_element_located((By.CSS_SELECTOR,'#gsc_a_b > tr:nth-child(1) > td.gsc_a_t > a')))\n",
    "source1=browser.page_source\n",
    "soup = BeautifulSoup(source1,'html.parser')\n",
    "raw_name = soup.find(\"td\",{\"class\":\"gsc_a_t\"})\n",
    "name=raw_name.find(\"a\",{\"class\":\"gsc_a_at\"})\n",
    "#print(name.text)\n",
    "str1=[]\n",
    "str1.append(\"{\\\"\"+name.text+\"\\\":{\")\n",
    "\n",
    "\n",
    "button2 = browser.find_element_by_css_selector('tr.gsc_a_tr:nth-child(1) > td:nth-child(2) > a:nth-child(1)')\n",
    "button2.click()\n",
    "source2=browser.page_source\n",
    "soup = BeautifulSoup(source2,'html.parser')\n",
    "'''# Path to be created\n",
    "path = \"/home/shubham/directory1\"\n",
    "os.makedirs(path, exist_ok=True)\n",
    "print (\"Path is created\")\n",
    "file=open('/home/shubham/directory1/abcd.json',\"a\")'''\n",
    "for i in range(1,3):\n",
    "    s1='#gs_n > center:nth-child(1) > table:nth-child(1) > tbody:nth-child(1) > tr:nth-child(1) > td:nth-child('\n",
    "    s3=') > a:nth-child(1)'\n",
    "    #s2=str(i)\n",
    "    if i!=1:\n",
    "        button3=browser.find_element_by_css_selector(s1+str(i)+s3)\n",
    "        button3.click()\n",
    "        source3=browser.page_source\n",
    "        soup=BeautifulSoup(source3,'html.parser')\n",
    "    url=browser.current_url\n",
    "    j=1;\n",
    "    for ele in soup.find_all(\"div\",{\"class\":\"gs_ri\"}):  #for the whole class\n",
    "        #print(\"This is the main loop\")\n",
    "        for ele1 in ele.find_all(\"h3\",{'class':\"gs_rt\"}):  #for the name of paper\n",
    "            #j+=1\n",
    "            #print(\"Hello loop 1 I am searching for papers name\")\n",
    "            for a1 in ele1.find_all('a'):\n",
    "                str1.append(\"\\\"\"+a1.text+\"\\\":[\")\n",
    "                print(a1.text)\n",
    "                #print(\"Hello loop 2 I am searching for papers name\" + a1.text)\n",
    "        for ele2 in ele.find_all(\"div\",{'class':'gs_a'}):   #for the names of autors\n",
    "            i=1\n",
    "            #print(\"Hello First loop of papers name\")\n",
    "            for a2 in ele2.find_all('a'):\n",
    "                #print(\"Hello second loop of papers name \")\n",
    "                str1.append(\"{\\\"Author\\\":\\\"\" + a2.text + \"\\\",\")\n",
    "                print(a2.text)\n",
    "                s4='/html/body/div/div[11]/div[2]/div[2]/div[2]/div['\n",
    "                s5=str(j)\n",
    "                s6=']/div[2]/div[1]/a['\n",
    "                s7=str(i)\n",
    "                s8=']'\n",
    "                #/html/body/div/div[11]/div[2]/div[2]/div[2]/div[3]/div[2]/div[1]/a\n",
    "                button4=browser.find_element_by_xpath(s4+s5+s6+s7+s8)\n",
    "                button4.click()\n",
    "                elem2 = WebDriverWait(browser,100).until(EC.presence_of_element_located((By.XPATH, '/html/body/div/div[14]/div[2]/div/div[2]/div/div[2]/div[2]')))\n",
    "                source4=browser.page_source\n",
    "                soup2=BeautifulSoup(source4,'html.parser')\n",
    "                inst_data=soup2.find(\"div\",{\"class\":\"gsc_prf_il\"})\n",
    "                inst_text=inst_data.text\n",
    "                i+=1\n",
    "                str1.append(\"\\\"Institute\\\":\\\"\"+inst_text+\"\\\"},\")\n",
    "                print(inst_data.text)\n",
    "                browser.get(url)\n",
    "                elem3 = WebDriverWait(browser,1000).until(EC.presence_of_element_located((By.XPATH, '/html/body/div/div[11]/div[2]/div[2]/div[3]/div[1]/center/table/tbody/tr/td[1]/span')))\n",
    "        j+=1\n",
    "        browser.get(url)\n",
    "str1.append(\"}}\")\n",
    "var = ' '.join(str1)\n",
    "#file.write(var)\n",
    "#file.close()\n"
   ]
  },
  {
   "cell_type": "code",
   "execution_count": null,
   "metadata": {},
   "outputs": [],
   "source": []
  },
  {
   "cell_type": "code",
   "execution_count": null,
   "metadata": {},
   "outputs": [],
   "source": []
  }
 ],
 "metadata": {
  "kernelspec": {
   "display_name": "Python 3",
   "language": "python",
   "name": "python3"
  },
  "language_info": {
   "codemirror_mode": {
    "name": "ipython",
    "version": 3
   },
   "file_extension": ".py",
   "mimetype": "text/x-python",
   "name": "python",
   "nbconvert_exporter": "python",
   "pygments_lexer": "ipython3",
   "version": "3.5.2"
  }
 },
 "nbformat": 4,
 "nbformat_minor": 2
}
